{
 "cells": [
  {
   "cell_type": "code",
   "execution_count": null,
   "id": "43381ee2",
   "metadata": {},
   "outputs": [],
   "source": [
    "import numpy as np\n",
    "import matplotlib.pyplot as plt\n",
    "from matplotlib.ticker import (MultipleLocator, AutoMinorLocator)\n",
    "import pandas as pd\n",
    "import json\n",
    "\n",
    "from penquins import Kowalski\n",
    "\n",
    "from sklearn.model_selection import train_test_split\n",
    "\n",
    "from matplotlib.colors import LogNorm\n",
    "from astropy.stats import sigma_clipped_stats\n",
    "from astropy.io.fits.verify import VerifyWarning\n",
    "import warnings\n",
    "warnings.filterwarnings(\"ignore\", category=VerifyWarning)\n",
    "\n",
    "import sys\n",
    "BOLD = \"\\033[1m\"\n",
    "END  = \"\\033[0m\"\n",
    "\n",
    "# %matplotlib notebook"
   ]
  },
  {
   "cell_type": "code",
   "execution_count": null,
   "id": "72863b21",
   "metadata": {},
   "outputs": [],
   "source": [
    "plt.rcParams.update({\n",
    "    \"font.family\": \"Times New Roman\",\n",
    "    \"font.size\": 12,\n",
    "})\n",
    "plt.rcParams['axes.linewidth'] = 1"
   ]
  },
  {
   "cell_type": "markdown",
   "id": "b702101a",
   "metadata": {},
   "source": [
    "### Query the BTS Sample Explorer"
   ]
  },
  {
   "cell_type": "code",
   "execution_count": null,
   "id": "34b5b928",
   "metadata": {},
   "outputs": [],
   "source": [
    "old_bts_trues_url      = \"https://sites.astro.caltech.edu/ztf/bts/explorer.php?f=s&subsample=trans&classstring=&classexclude=&ps1img=y&lcfig=y&ztflink=lasair&lastdet=&startsavedate=&startpeakdate=&startra=&startdec=&startz=&startdur=&startrise=&startfade=&startpeakmag=&startabsmag=&starthostabs=&starthostcol=&startb=&startav=&endsavedate=&endpeakdate=&endra=&enddec=&endz=&enddur=&endrise=&endfade=&endpeakmag=18.5&endabsmag=&endhostabs=&endhostcol=&endb=&endav=&sort=peakmag&format=csv\"\n",
    "old_bts_dim_falses_url = \"https://sites.astro.caltech.edu/ztf/bts/explorer.php?f=s&subsample=trans&classstring=&classexclude=&quality=y&purity=y&ps1img=y&lcfig=y&ztflink=lasair&lastdet=&startsavedate=&startpeakdate=&startra=&startdec=&startz=&startdur=&startrise=&startfade=&startpeakmag=18.5&startabsmag=&starthostabs=&starthostcol=&startb=&startav=&endsavedate=&endpeakdate=&endra=&enddec=&endz=&enddur=&endrise=&endfade=&endpeakmag=&endabsmag=&endhostabs=&endhostcol=&endb=&endav=&sort=peakmag&reverse=y&format=csv\"\n"
   ]
  },
  {
   "cell_type": "code",
   "execution_count": null,
   "id": "2abf0414",
   "metadata": {},
   "outputs": [],
   "source": [
    "bts_trues_url      = \"https://sites.astro.caltech.edu/ztf/bts/explorer.php?f=s&subsample=trans&classstring=&classexclude=&passok=y&refok=y&dateok=y&purity=y&ps1img=y&lcfig=y&ztflink=lasair&lastdet=&startsavedate=&startpeakdate=&startra=&startdec=&startz=&startdur=&startrise=&startfade=&startpeakmag=&startabsmag=&starthostabs=&starthostcol=&startb=&startav=&endsavedate=&endpeakdate=&endra=&enddec=&endz=&enddur=&endrise=&endfade=&endpeakmag=18.5&endabsmag=&endhostabs=&endhostcol=&endb=&endav=&sort=peakmag&format=csv\"\n",
    "bts_var_falses_url = \"https://sites.astro.caltech.edu/ztf/bts/explorer.php?f=s&subsample=var&classstring=&classexclude=&ztflink=lasair&lastdet=&startsavedate=&startpeakdate=&startra=&startdec=&startz=&startdur=&startrise=&startfade=&startpeakmag=&startabsmag=&starthostabs=&starthostcol=&startb=&startav=&endsavedate=&endpeakdate=&endra=&enddec=&endz=&enddur=&endrise=&endfade=&endpeakmag=&endabsmag=&endhostabs=&endhostcol=&endb=&endav=&format=csv\"\n",
    "bts_dim_falses_url = \"https://sites.astro.caltech.edu/ztf/bts/explorer.php?f=s&subsample=trans&classstring=&classexclude=&passok=y&refok=y&dateok=y&purity=y&ps1img=y&lcfig=y&ztflink=lasair&lastdet=&startsavedate=&startpeakdate=&startra=&startdec=&startz=&startdur=&startrise=&startfade=&startpeakmag=18.5&startabsmag=&starthostabs=&starthostcol=&startb=&startav=&endsavedate=&endpeakdate=&endra=&enddec=&endz=&enddur=&endrise=&endfade=&endpeakmag=&endabsmag=&endhostabs=&endhostcol=&endb=&endav=&sort=peakmag&reverse=y&format=csv\"\n"
   ]
  },
  {
   "cell_type": "code",
   "execution_count": null,
   "id": "e513bcf9",
   "metadata": {
    "scrolled": false
   },
   "outputs": [],
   "source": [
    "!curl -o data/base_data/bts_trues.csv \"$bts_trues_url\"\n",
    "!curl -o data/base_data/bts_var_falses.csv \"$bts_var_falses_url\"\n",
    "!curl -o data/base_data/bts_dim_falses.csv \"$bts_dim_falses_url\"\n",
    "\n",
    "# m = -2.5log(c)+zp\n",
    "# 12=-2.5log(255)+zp\n",
    "# m1-m2=-2.5log(f1/f2)\n",
    "# 12+2.5*np.log10(255)"
   ]
  },
  {
   "cell_type": "markdown",
   "id": "36242947",
   "metadata": {},
   "source": [
    "### Read queried data"
   ]
  },
  {
   "cell_type": "code",
   "execution_count": null,
   "id": "a2902648",
   "metadata": {},
   "outputs": [],
   "source": [
    "bts_trues = pd.read_csv(\"data/base_data/bts_trues.csv\")\n",
    "bts_var_falses = pd.read_csv(\"data/base_data/bts_var_falses.csv\")\n",
    "bts_dim_falses = pd.read_csv(\"data/base_data/bts_dim_falses.csv\")"
   ]
  },
  {
   "cell_type": "code",
   "execution_count": null,
   "id": "3a36d6c2",
   "metadata": {},
   "outputs": [],
   "source": [
    "print(len(bts_trues), \"bts true sources\")\n",
    "print(len(bts_dim_falses)+len(bts_var_falses), \"bts false sources\")"
   ]
  },
  {
   "cell_type": "markdown",
   "id": "048a7a78",
   "metadata": {},
   "source": [
    "### Process list from Mat Smith"
   ]
  },
  {
   "cell_type": "code",
   "execution_count": null,
   "id": "58defe53",
   "metadata": {},
   "outputs": [],
   "source": [
    "MS_Ias = pd.read_csv('mat-smith/ztfdr2_masterlist.csv')\n",
    "MS_Ias.rename(columns={\"ztfname\": \"ZTFID\"}, inplace=True)\n",
    "print(\"Total in MS list\", len(MS_Ias))"
   ]
  },
  {
   "cell_type": "code",
   "execution_count": null,
   "id": "77bb1fc9",
   "metadata": {},
   "outputs": [],
   "source": [
    "nonZTF = ~MS_Ias['ZTFID'].str.contains('ZTF')\n",
    "nonZTF_idxs = MS_Ias['ZTFID'].index[nonZTF]\n",
    "\n",
    "MS_Ias = MS_Ias.drop(index=nonZTF_idxs)\n",
    "print(\"Total in MS list excluding non ZTF objects\", len(MS_Ias))"
   ]
  },
  {
   "cell_type": "code",
   "execution_count": null,
   "id": "d3bdb8bb",
   "metadata": {},
   "outputs": [],
   "source": [
    "inBTSSE = MS_Ias['ZTFID'].isin(pd.concat([bts_trues['ZTFID'], bts_dim_falses['ZTFID'], bts_var_falses['ZTFID']]))\n",
    "inBTSSE_idxs = MS_Ias['ZTFID'].index[inBTSSE]\n",
    "\n",
    "MS_Ias = MS_Ias.drop(index=inBTSSE_idxs)\n",
    "print(\"New in MS list\", len(MS_Ias))"
   ]
  },
  {
   "cell_type": "markdown",
   "id": "4578ff4e",
   "metadata": {},
   "source": [
    "### Objects to remove"
   ]
  },
  {
   "cell_type": "code",
   "execution_count": null,
   "id": "08e7e085",
   "metadata": {},
   "outputs": [],
   "source": [
    "objs_to_remove = [\"ZTF18abdiasx\", \"ZTF21abyazip\", \"ZTF18aaadqua\", \"ZTF18aarrwmi\"]\n",
    "print(len(bts_trues)+len(bts_var_falses)+len(bts_dim_falses)+len(MS_Ias))\n",
    "\n",
    "for obj in objs_to_remove:\n",
    "    bts_trues      = bts_trues     [bts_trues     [\"ZTFID\"] != obj]\n",
    "    bts_var_falses = bts_var_falses[bts_var_falses[\"ZTFID\"] != obj]\n",
    "    bts_dim_falses = bts_dim_falses[bts_dim_falses[\"ZTFID\"] != obj]\n",
    "    MS_Ias         = MS_Ias        [MS_Ias        [\"ZTFID\"] != obj]\n",
    "        \n",
    "print(len(bts_trues)+len(bts_var_falses)+len(bts_dim_falses)+len(MS_Ias))"
   ]
  },
  {
   "cell_type": "markdown",
   "id": "00c471c2",
   "metadata": {},
   "source": [
    "### Helper functions for querying kowalski and processing alerts"
   ]
  },
  {
   "cell_type": "code",
   "execution_count": null,
   "id": "e685b4f8",
   "metadata": {},
   "outputs": [],
   "source": [
    "with open('misc/credentials.json', 'r') as f:\n",
    "    creds = json.load(f)\n",
    "    \n",
    "k = Kowalski(username=creds['username'], password=creds['password'])\n",
    "assert(k.ping())"
   ]
  },
  {
   "cell_type": "code",
   "execution_count": null,
   "id": "15ed0e0d",
   "metadata": {
    "code_folding": [
     0
    ]
   },
   "outputs": [],
   "source": [
    "def query_kowalski(ZTFID, kowalski):\n",
    "    \"\"\"\n",
    "        Query kowalski to get the candidate stamps\n",
    "        ADAPTED FROM https://github.com/growth-astro/ztfrest/\n",
    "        https://zwickytransientfacility.github.io/ztf-avro-alert/schema.html\n",
    "    \"\"\"\n",
    "    \n",
    "    if type(ZTFID) == str:\n",
    "        list_ZTFID = [ZTFID]\n",
    "    elif type(ZTFID) == list:\n",
    "        list_ZTFID = ZTFID\n",
    "    else:\n",
    "        print(f\"{ZTFID} must be a list or a string\")\n",
    "        return None\n",
    "\n",
    "    alerts = []\n",
    "    \n",
    "    for ZTFID in list_ZTFID:\n",
    "        query = {\n",
    "            \"query_type\": \"find\",\n",
    "            \"query\": {\n",
    "                \"catalog\": \"ZTF_alerts\",\n",
    "                \"filter\": {\n",
    "                    'objectId': ZTFID\n",
    "                },\n",
    "                \"projection\": {\n",
    "                    \"_id\": 0,\n",
    "                    \"candid\": 1,\n",
    "                    \"objectId\": 1,\n",
    "                    \n",
    "                    \"candidate.jd\": 1,\n",
    "                    \"candidate.fid\": 1,\n",
    "                    \"candidate.programid\": 1,\n",
    "                    \"candidate.isdiffpos\": 1,\n",
    "                    \"candidate.rcid\": 1,\n",
    "                    \"candidate.field\": 1,\n",
    "                    \"candidate.ra\": 1,\n",
    "                    \"candidate.dec\": 1,\n",
    "                    \"candidate.magpsf\": 1,\n",
    "                    \"candidate.sigmapsf\": 1,\n",
    "                    \"candidate.distnr\": 1,\n",
    "                    \"candidate.magnr\": 1,\n",
    "                    \"candidate.sigmagnr\": 1,\n",
    "                    \"candidate.sky\": 1,\n",
    "                    \"candidate.fwhm\": 1,\n",
    "                    \"candidate.classtar\": 1,\n",
    "                    \"candidate.mindtoedge\": 1,\n",
    "                    \"candidate.rb\": 1,\n",
    "                    \"candidate.drb\": 1,\n",
    "                    \"candidate.ndethist\": 1,\n",
    "                    \"candidate.jdstarthist\": 1,\n",
    "                    \"candidate.jdendhist\": 1,\n",
    "                    \"candidate.scorr\": 1,\n",
    "                    \"candidate.sgscore1\": 1,\n",
    "                    \"candidate.distpsnr1\": 1,\n",
    "                    \"candidate.sgscore2\": 1,\n",
    "                    \"candidate.distpsnr2\": 1,\n",
    "                    \"candidate.sgscore3\": 1,\n",
    "                    \"candidate.distpsnr3\": 1,\n",
    "                    \"candidate.magzpsci\": 1, \n",
    "                    \"candidate.magzpsciunc\": 1,\n",
    "                    \"candidate.neargaia\": 1, \n",
    "                    \"candidate.maggaia\": 1,\n",
    "                    \n",
    "                    \"classifications.acai_h\": 1,\n",
    "                    \"classifications.acai_v\": 1,\n",
    "                    \"classifications.acai_o\": 1,\n",
    "                    \"classifications.acai_n\": 1,\n",
    "                    \"classifications.acai_b\": 1,\n",
    "                    \n",
    "                    \"cutoutScience\": 1,\n",
    "                    \"cutoutTemplate\": 1,\n",
    "                    \"cutoutDifference\": 1,\n",
    "                }\n",
    "            }\n",
    "        }\n",
    "\n",
    "        r = kowalski.query(query)\n",
    "\n",
    "        if r['data'] == []:\n",
    "            print(\"  No data for\", ZTFID)\n",
    "        else:\n",
    "            alerts += r['data']\n",
    "            print(\"  Finished querying\", ZTFID)\n",
    "    print(BOLD+f\"Finished all queries, got {len(alerts)} alerts\"+END+\"\\n\")\n",
    "    return alerts\n",
    "    "
   ]
  },
  {
   "cell_type": "code",
   "execution_count": null,
   "id": "d561d072",
   "metadata": {
    "code_folding": []
   },
   "outputs": [],
   "source": [
    "def make_triplet(alert, normalize: bool = True):\n",
    "    \"\"\"\n",
    "        Feed in alert packet\n",
    "        ADAPTED FROM https://github.com/dmitryduev/braai\n",
    "    \"\"\"\n",
    "    from bson.json_util import loads, dumps\n",
    "    import gzip\n",
    "    import io\n",
    "    from astropy.io import fits\n",
    "    from matplotlib.colors import LogNorm\n",
    "\n",
    "    cutout_dict = dict()\n",
    "    drop = False\n",
    "    \n",
    "    for cutout in ('science', 'template', 'difference'):\n",
    "        cutout_data = loads(dumps([alert[f'cutout{cutout.capitalize()}']['stampData']]))[0]\n",
    "        # unzip\n",
    "        with gzip.open(io.BytesIO(cutout_data), 'rb') as f:\n",
    "            with fits.open(io.BytesIO(f.read())) as hdu:\n",
    "                data = hdu[0].data\n",
    "                # replace nans with zeros\n",
    "                cutout_dict[cutout] = np.nan_to_num(data, nan=np.nanmedian(data.flatten()))\n",
    "                \n",
    "                # normalize\n",
    "                if normalize:\n",
    "                    cutout_dict[cutout] /= np.linalg.norm(cutout_dict[cutout])\n",
    "                \n",
    "                if np.sum(cutout_dict[cutout].flatten())==0:\n",
    "                    drop=True\n",
    "                \n",
    "        # pad to 63x63 if smaller\n",
    "        shape = cutout_dict[cutout].shape\n",
    "        if shape != (63, 63):\n",
    "            print(shape, alert['candid'])\n",
    "            cutout_dict[cutout] = np.pad(cutout_dict[cutout],\n",
    "                                         [(0, 63 - shape[0]),\n",
    "                                          (0, 63 - shape[1])],\n",
    "                                         mode='constant', constant_values=1e-9)\n",
    "    \n",
    "    triplet = np.zeros((63, 63, 3))\n",
    "    triplet[:, :, 0] = cutout_dict['science']\n",
    "    triplet[:, :, 1] = cutout_dict['template']\n",
    "    triplet[:, :, 2] = cutout_dict['difference']\n",
    "    \n",
    "    return triplet, drop\n"
   ]
  },
  {
   "cell_type": "code",
   "execution_count": null,
   "id": "86846995",
   "metadata": {
    "code_folding": [
     0
    ]
   },
   "outputs": [],
   "source": [
    "def plot_triplet(tr, show_fig: bool = True):\n",
    "    \"\"\"ADAPTED FROM https://github.com/dmitryduev/braai\"\"\"\n",
    "    \n",
    "    fig = plt.figure(figsize=(8, 2), dpi=120)\n",
    "    ax1 = fig.add_subplot(131)\n",
    "    ax1.axis('off')\n",
    "#     mean, median, std = sigma_clipped_stats(tr[:, :, 0])\n",
    "    ax1.imshow(tr[:, :, 0], origin='upper', cmap=plt.cm.bone, norm=LogNorm())\n",
    "    ax1.title.set_text('Science')\n",
    "    ax2 = fig.add_subplot(132)\n",
    "    ax2.axis('off')\n",
    "#     mean, median, std = sigma_clipped_stats(tr[:, :, 1])\n",
    "    ax2.imshow(tr[:, :, 1], origin='upper', cmap=plt.cm.bone, norm=LogNorm())\n",
    "    ax2.title.set_text('Reference')\n",
    "    ax3 = fig.add_subplot(133)\n",
    "    ax3.axis('off')\n",
    "#     mean, median, std = sigma_clipped_stats(tr[:, :, 2])\n",
    "    ax3.imshow(tr[:, :, 2], origin='upper', cmap=plt.cm.bone)\n",
    "    ax3.title.set_text('Difference')\n",
    "\n",
    "    if show_fig:\n",
    "        plt.show()\n",
    "    else:\n",
    "        return fig\n",
    "    "
   ]
  },
  {
   "cell_type": "code",
   "execution_count": null,
   "id": "caf4e722",
   "metadata": {
    "code_folding": [
     0
    ]
   },
   "outputs": [],
   "source": [
    "def extract_triplets(alerts, normalize: bool = True):\n",
    "    triplets = np.empty((len(alerts), 63, 63, 3))\n",
    "    to_drop = np.array((), dtype=int)\n",
    "    for i, alert in enumerate(alerts):\n",
    "        triplets[i], drop = make_triplet(alert, normalize=normalize)\n",
    "        alert.pop('cutoutScience'); alert.pop('cutoutTemplate'); alert.pop('cutoutDifference')\n",
    "        if drop:\n",
    "            to_drop = np.append(to_drop, int(i))\n",
    "            \n",
    "    if len(to_drop) > 0:\n",
    "        triplets = np.delete(triplets, list(to_drop), axis=0)\n",
    "        alerts = np.delete(alerts, list(to_drop), axis=0)\n",
    "\n",
    "    return alerts, triplets\n"
   ]
  },
  {
   "cell_type": "code",
   "execution_count": null,
   "id": "22a53ce1",
   "metadata": {
    "code_folding": [
     0
    ]
   },
   "outputs": [],
   "source": [
    "def process_cand_data(alerts, label):\n",
    "    cand_class_data = [alert['candidate'] | alert['classifications'] for alert in alerts]\n",
    "\n",
    "    df = pd.DataFrame(cand_class_data)\n",
    "    df.insert(0, \"objectId\", [alert['objectId'] for alert in alerts])\n",
    "    df.insert(1, \"candid\", [alert['candid'] for alert in alerts])\n",
    "    \n",
    "    # label must be int equalling 0, 1 or a list of 1s and 0s\n",
    "    if type(label) == list or type(label) == np.ndarray:\n",
    "        assert(len(label) == len(alerts))\n",
    "        df.insert(2, \"label\", label)\n",
    "    elif type(label) == int:    \n",
    "        df.insert(2, \"label\", np.full((len(alerts),), label, dtype=int))\n",
    "    print(\"Arranged candidate data and inserted labels\")\n",
    "    return df\n"
   ]
  },
  {
   "cell_type": "markdown",
   "id": "865ba781",
   "metadata": {},
   "source": [
    "### Query data from kowalski, separate and save triplets and candidate data  "
   ]
  },
  {
   "cell_type": "code",
   "execution_count": null,
   "id": "a9765d42",
   "metadata": {},
   "outputs": [],
   "source": [
    "# print(f\"Querying kowalski for {len(bts_trues['ZTFID'])} objects\")\n",
    "# bts_true_alerts, bts_true_triplets = extract_triplets(query_kowalski(bts_trues['ZTFID'].to_list(), k), True)\n",
    "\n",
    "# np.save(\"data/base_data/bts_true_triplets.npy\", bts_true_triplets)\n",
    "# del bts_true_triplets\n",
    "# print(\"Saved and purged triplets\\n\")\n",
    "\n",
    "# num_bts_true_alerts = len(bts_true_alerts)\n",
    "\n",
    "# print(f\"All {num_bts_true_alerts} alerts are trues\")\n",
    "\n",
    "# bts_true_cand_data = process_cand_data(bts_true_alerts, np.ones(num_bts_true_alerts, dtype=int))\n",
    "# bts_true_cand_data.to_csv('data/base_data/bts_true_candidates.csv', index=False)\n",
    "# del bts_true_cand_data\n",
    "# print(\"Saved and purged candidate data\")\n"
   ]
  },
  {
   "cell_type": "code",
   "execution_count": null,
   "id": "f095650c",
   "metadata": {
    "scrolled": true
   },
   "outputs": [],
   "source": [
    "# print(f\"Querying kowalski for {len(bts_dim_falses['ZTFID'])} objects\")\n",
    "# bts_dim_false_alerts, bts_dim_false_triplets = extract_triplets(query_kowalski(bts_dim_falses['ZTFID'].to_list(), k), True)\n",
    "\n",
    "# np.save(\"data/base_data/bts_dim_false_triplets.npy\", bts_dim_false_triplets)\n",
    "# del bts_dim_false_triplets\n",
    "# print(\"Saved and purged triplets\\n\")\n",
    "\n",
    "# num_bts_dim_false_alerts = len(bts_dim_false_alerts)\n",
    "\n",
    "# print(f\"All {num_bts_dim_false_alerts} alerts are falses\")\n",
    "\n",
    "# bts_dim_false_cand_data = process_cand_data(bts_dim_false_alerts, np.zeros(num_bts_dim_false_alerts, dtype=int))\n",
    "# bts_dim_false_cand_data.to_csv('data/base_data/bts_dim_false_candidates.csv', index=False)\n",
    "# del bts_dim_false_cand_data\n",
    "# print(\"Saved and purged candidate data\")\n"
   ]
  },
  {
   "cell_type": "code",
   "execution_count": null,
   "id": "efcc7b0b",
   "metadata": {},
   "outputs": [],
   "source": [
    "# print(f\"Querying kowalski for {len(bts_var_falses['ZTFID'])} objects\")\n",
    "# bts_var_false_alerts, bts_var_false_triplets = extract_triplets(query_kowalski(bts_var_falses['ZTFID'].to_list(), k), True)\n",
    "\n",
    "# np.save(\"data/base_data/bts_var_false_triplets.npy\", bts_var_false_triplets)\n",
    "# del bts_var_false_triplets\n",
    "# print(\"Saved and purged triplets\\n\")\n",
    "\n",
    "# num_bts_var_false_alerts = len(bts_var_false_alerts)\n",
    "\n",
    "# print(f\"All {num_bts_var_false_alerts} alerts are falses\")\n",
    "\n",
    "# bts_var_false_cand_data = process_cand_data(bts_var_false_alerts, np.zeros(num_bts_var_false_alerts, dtype=int))\n",
    "# bts_var_false_cand_data.to_csv('data/base_data/bts_var_false_candidates.csv', index=False)\n",
    "# del bts_var_false_cand_data\n",
    "# print(\"Saved and purged candidate data\")\n"
   ]
  },
  {
   "cell_type": "code",
   "execution_count": null,
   "id": "823ae70a",
   "metadata": {
    "scrolled": true
   },
   "outputs": [],
   "source": [
    "# print(f\"Querying kowalski for {len(MS_Ias)} objects\")\n",
    "# MS_alerts, MS_triplets = extract_triplets(query_kowalski(MS_Ias['ZTFID'].to_list(), k), True)\n",
    "\n",
    "# np.save(\"data/base_data/MS_triplets.npy\", MS_triplets)\n",
    "# del MS_triplets\n",
    "# print(\"Saved and purged triplets\\n\")\n",
    "\n",
    "# num_MS_alerts = len(MS_alerts)\n",
    "\n",
    "# MS_true_objs = set()\n",
    "# for al in MS_alerts: \n",
    "#     if al['candidate']['magpsf'] < 18.5:\n",
    "#         MS_true_objs.add(al['objectId'])\n",
    "# MS_labels = [1 if al['objectId'] in MS_true_objs else 0 for al in MS_alerts]\n",
    "# print(f\"Generated labels: {np.sum(MS_labels)} trues, {len(MS_labels)-np.sum(MS_labels)} falses\")\n",
    "\n",
    "# # MS_true_objs = set()\n",
    "# # for idx in cand.index: \n",
    "# #     if cand.loc[idx]['magpsf'] < 18.5:\n",
    "# #         MS_true_objs.add(cand.loc[idx]['objectId'])\n",
    "# # MS_labels = [1 if objectid in MS_true_objs else 0 for objectid in cand['objectId']]\n",
    "# # print(f\"Generated labels: {np.sum(MS_labels)} trues, {len(MS_labels)-np.sum(MS_labels)} falses\")\n",
    "\n",
    "\n",
    "# MS_cand_data = process_cand_data(MS_alerts, MS_labels)\n",
    "# MS_cand_data.to_csv('data/base_data/MS_candidates.csv', index=False)\n",
    "# del MS_cand_data\n",
    "# print(\"Saved and purged candidate data\")\n"
   ]
  },
  {
   "cell_type": "markdown",
   "id": "29ef5b90",
   "metadata": {},
   "source": [
    "### Thin datasets down to N alerts per object"
   ]
  },
  {
   "cell_type": "code",
   "execution_count": null,
   "id": "bcf26eeb",
   "metadata": {},
   "outputs": [],
   "source": [
    "def thin_by_alerts(set_name, mods, N_max: int):\n",
    "    np.random.seed(2)\n",
    "    print(f\"Thinning {set_name}{mods} data to {N_max} alerts per object\")\n",
    "    trip_filename = f\"data/base_data/{set_name}_triplets{mods}.npy\"\n",
    "    cand_filename = f\"data/base_data/{set_name}_candidates{mods}.csv\"\n",
    "    \n",
    "    triplets = np.load(trip_filename, mmap_mode='r+')\n",
    "    cand = pd.read_csv(cand_filename)\n",
    "    \n",
    "    plt.figure()\n",
    "    _ = plt.hist(cand['objectId'].value_counts(), histtype='step', bins=50)\n",
    "    plt.tight_layout()\n",
    "    plt.show()\n",
    "    print(f\"Initial median of {np.median(cand['objectId'].value_counts())} detections per object\")\n",
    "    \n",
    "    drops = np.empty((0,), dtype=int)\n",
    "    for ID in set(cand['objectId']):\n",
    "        reps = np.argwhere(np.asarray(cand['objectId']) == ID).flatten()\n",
    "        if len(reps) >= N_max:\n",
    "            drops = np.concatenate((drops, np.random.choice(reps, len(reps)-N_max, replace=False)))\n",
    "    \n",
    "    \n",
    "    triplets = np.delete(triplets, drops, axis=0)\n",
    "    cand = cand.drop(index=drops)\n",
    "    print(f\"{BOLD}Dropped {len(drops)} {set_name} alerts{END}\")\n",
    "    \n",
    "    np.save(f\"data/{set_name}_triplets{mods}_{N_max}max.npy\", triplets)\n",
    "    cand.to_csv(f\"data/{set_name}_candidates{mods}_{N_max}max.csv\", index=False)\n",
    "    \n",
    "    print(f\"Final median of {np.median(cand['objectId'].value_counts())} detections per object\")\n",
    "    print(f\"Saved thinned {set_name}{mods} data to disk\\n\")\n",
    "    "
   ]
  },
  {
   "cell_type": "code",
   "execution_count": null,
   "id": "38594454",
   "metadata": {
    "scrolled": false
   },
   "outputs": [],
   "source": [
    "N_max_alerts = 15\n",
    "\n",
    "thin_by_alerts(\"bts_true\", \"\", N_max_alerts)\n",
    "thin_by_alerts(\"bts_false\", \"\", N_max_alerts)\n",
    "thin_by_alerts(\"MS\", \"\", N_max_alerts)"
   ]
  },
  {
   "cell_type": "markdown",
   "id": "f05d120c",
   "metadata": {},
   "source": [
    "### Concatenate triplets and candidate data from given sources into two primary files"
   ]
  },
  {
   "cell_type": "code",
   "execution_count": null,
   "id": "902a989c",
   "metadata": {},
   "outputs": [],
   "source": [
    "def concat(source_sets, mods, N_max: int = None):\n",
    "    print(f\"Merging triplets and candidate data for {source_sets}{mods} {f'with {N_max} maximum alert(s) per object' if N_max is not None else '' }\")\n",
    "    triplets = np.empty((0,63,63,3))\n",
    "    cand = pd.DataFrame()\n",
    "    \n",
    "    for source_set in source_sets:\n",
    "        triplets = np.concatenate((triplets, \n",
    "                                   np.load(f\"data/{source_set}_triplets{mods}{ f'_{N_max}max' if N_max is not None else '' }.npy\", mmap_mode='r+')))\n",
    "        cand = pd.concat((cand,\n",
    "                          pd.read_csv(f\"data/{source_set}_candidates{mods}{ f'_{N_max}max' if N_max is not None else '' }.csv\")))\n",
    "        print(f\"  Read and merged {source_set} data\")\n",
    "        \n",
    "    np.save(f\"data/triplets{mods}{ f'_{N_max}max' if N_max is not None else '' }.npy\", triplets)\n",
    "    cand.to_csv(f\"data/candidates{mods}{ f'_{N_max}max' if N_max is not None else '' }.csv\", index=False)\n",
    "    print(\"Wrote merged triplets and candidate data\")\n",
    "    del triplets, cand"
   ]
  },
  {
   "cell_type": "code",
   "execution_count": null,
   "id": "a69819d4",
   "metadata": {},
   "outputs": [],
   "source": [
    "concat([\"bts_true\", \"bts_false\"], \"\", N_max_alerts)"
   ]
  },
  {
   "cell_type": "markdown",
   "id": "1cd72556",
   "metadata": {},
   "source": [
    "### Visualization helper functions"
   ]
  },
  {
   "cell_type": "code",
   "execution_count": null,
   "id": "b8c90027",
   "metadata": {},
   "outputs": [],
   "source": [
    "def plot_lightcurve(alerts):\n",
    "    fid_to_color = {\n",
    "        1: ('green',  'g'),\n",
    "        2: ('red',    'r'),\n",
    "        3: ('orange', 'i')\n",
    "    }\n",
    "    \n",
    "    alerts = alerts.sort_values(by='jd')\n",
    "    jds = alerts['jd']-alerts['jd'].to_numpy()[0]\n",
    "        \n",
    "    fig, ax = plt.subplots(figsize=(8,5))\n",
    "    \n",
    "    for fid in [1, 2, 3]:\n",
    "        obs_in_filt = alerts['fid'] == fid\n",
    "        \n",
    "        alerts_in_filt = alerts.loc[obs_in_filt]\n",
    "        plt.errorbar(jds[obs_in_filt], alerts_in_filt['magpsf'], fmt='o', color=fid_to_color[fid][0], yerr=alerts_in_filt['sigmapsf'], label='ztf'+fid_to_color[fid][1])\n",
    "    \n",
    "    ax.invert_yaxis()\n",
    "    ax.set_xlabel(\"days since first detection\", size=16, labelpad=10)\n",
    "    ax.set_ylabel(\"PSF magnitude\", size=16, labelpad=10)\n",
    "    ax.legend(loc='upper right', bbox_to_anchor=(1.25, 1))\n",
    "    \n",
    "    return fig, ax"
   ]
  },
  {
   "cell_type": "code",
   "execution_count": null,
   "id": "760e00ae",
   "metadata": {},
   "outputs": [],
   "source": [
    "set_name = \"MS\"\n",
    "\n",
    "cand = pd.read_csv(f\"data/{set_name}_candidates.csv\")"
   ]
  },
  {
   "cell_type": "code",
   "execution_count": null,
   "id": "869187a7",
   "metadata": {},
   "outputs": [],
   "source": [
    "ztfids = cand['objectId'].value_counts().index.to_numpy()\n",
    "np.random.shuffle(ztfids)\n",
    "\n",
    "for ztfid in ztfids[0:1]:\n",
    "    fig, ax = plot_lightcurve(cand[cand['objectId']==ztfid])\n",
    "    ax.set_title(f\"{ztfid} lightcurve\", size=14)\n",
    "    fig.tight_layout()\n",
    "    plt.show()"
   ]
  },
  {
   "cell_type": "markdown",
   "id": "a096ffde",
   "metadata": {},
   "source": [
    "### Inventory of $\\texttt{isdiffpos = False}$"
   ]
  },
  {
   "cell_type": "code",
   "execution_count": null,
   "id": "f50fcc8f",
   "metadata": {},
   "outputs": [],
   "source": [
    "set_name = \"bts_true\"\n",
    "\n",
    "triplets = np.load(f\"data/base_data/{set_name}_triplets.npy\", mmap_mode='r')\n",
    "cand = pd.read_csv(f\"data/base_data/{set_name}_candidates.csv\")"
   ]
  },
  {
   "cell_type": "code",
   "execution_count": null,
   "id": "6ae3aaf7",
   "metadata": {},
   "outputs": [],
   "source": [
    "cand['isdiffpos'] = [True if isdiffpos == 't' else False for isdiffpos in cand['isdiffpos']]"
   ]
  },
  {
   "cell_type": "code",
   "execution_count": null,
   "id": "32a22e08",
   "metadata": {},
   "outputs": [],
   "source": [
    "negdiffs = cand[~cand['isdiffpos']]\n",
    "\n",
    "negdiff_objids = negdiffs['objectId'].value_counts().index.to_numpy()\n",
    "negdiffs_counts = negdiffs['objectId'].value_counts().to_numpy()\n",
    "\n",
    "cand_objids = cand['objectId'].value_counts().index.to_numpy()\n",
    "cand_counts = cand['objectId'].value_counts().to_numpy()\n",
    "\n",
    "print(f\"Percent of alerts with negative diff {100*len(negdiffs)/len(cand):.2f}%\")\n",
    "print(f\"Percent of objects that have at least one negative diff alert {100*len(negdiff_objids)/len(cand_objids):.2f}%\")\n",
    "\n",
    "# MS:        62.32% neg\n",
    "# BTS_true:   6.48% neg\n",
    "# BTS_false: 19.70% neg\n"
   ]
  },
  {
   "cell_type": "code",
   "execution_count": null,
   "id": "818cda55",
   "metadata": {},
   "outputs": [],
   "source": [
    "negdiff_fracs = [negcounts/len(cand[cand['objectId']==objid]) for objid, negcounts in zip(negdiff_objids, negdiffs_counts)]\n",
    "\n",
    "percs = np.zeros(len(negdiff_objids))\n",
    "for i, (objid, negcounts) in enumerate(zip(negdiff_objids, negdiffs_counts)):\n",
    "    percs[i] = 100*negcounts/len(cand[cand['objectId']==objid])\n",
    "    print(f\"{objid} has {percs[i]:.2f}% negative differences\")"
   ]
  },
  {
   "cell_type": "code",
   "execution_count": null,
   "id": "acae2508",
   "metadata": {},
   "outputs": [],
   "source": [
    "plt.figure()\n",
    "plt.hist(percs)\n",
    "plt.show()"
   ]
  },
  {
   "cell_type": "code",
   "execution_count": null,
   "id": "10aa9b49",
   "metadata": {
    "code_folding": [
     0
    ]
   },
   "outputs": [],
   "source": [
    "def plot_lightcurve_itr(alerts, triplets):\n",
    "    fid_to_color = {\n",
    "        1: ('green',  'g'),\n",
    "        2: ('red',    'r'),\n",
    "        3: ('orange', 'i')\n",
    "    }\n",
    "    \n",
    "#     alerts = alerts.sort_values(by='jd')\n",
    "    first_detect = np.min(alerts['jd'].to_numpy())\n",
    "    print(first_detect)\n",
    "    for trip in trips[::10]:\n",
    "        \n",
    "        plot_triplet(trip, show_fig=True)\n",
    "        \n",
    "    fig, ax = plt.subplots(figsize=(8,5))\n",
    "    \n",
    "    for idx in alerts.index:\n",
    "        alert = alerts.loc[idx]\n",
    "        jd = alert['jd'] - first_detect\n",
    "        if alert['isdiffpos']:\n",
    "            plt.errorbar(jd, alert['magpsf'], fmt='^', fillstyle='none', alpha=0.5, color=fid_to_color[alert['fid']][0], yerr=alert['sigmapsf'])\n",
    "        else:\n",
    "            plt.errorbar(jd, alert['magpsf'], fmt='v', fillstyle='none', alpha=0.5, color=fid_to_color[alert['fid']][0], yerr=alert['sigmapsf'])\n",
    "    \n",
    "    \n",
    "    plt.plot([],[], marker='^', color='red', fillstyle='none', alpha=0.5, label='ztfr pos diff')\n",
    "    plt.plot([],[], marker='^', color='green', fillstyle='none', alpha=0.5, label='ztfg pos diff')\n",
    "    plt.plot([],[], marker='^', color='orange', fillstyle='none', alpha=0.5, label='ztfi pos diff')\n",
    "    \n",
    "    plt.plot([],[], marker='v', color='r', fillstyle='none', alpha=0.5, label='ztfr neg diff')\n",
    "    plt.plot([],[], marker='v', color='green', fillstyle='none', alpha=0.5, label='ztfg neg diff')\n",
    "    plt.plot([],[], marker='v', color='orange', fillstyle='none', alpha=0.5, label='ztfi neg diff')\n",
    "    ax.invert_yaxis()\n",
    "    ax.set_xlabel(\"days since first detection\", size=16, labelpad=10)\n",
    "    ax.set_ylabel(\"PSF magnitude\", size=16, labelpad=10)\n",
    "    ax.legend(loc='upper right')#, bbox_to_anchor=(1.2,1))\n",
    "    \n",
    "    return fig, ax"
   ]
  },
  {
   "cell_type": "code",
   "execution_count": null,
   "id": "d9253c85",
   "metadata": {
    "scrolled": false
   },
   "outputs": [],
   "source": [
    "# ztfid = \"ZTF18ablmduj\"\n",
    "\n",
    "# alerts = cand[cand['objectId']==ztfid]\n",
    "# trips = triplets[cand['objectId']==ztfid]\n",
    "# fig, ax = plot_lightcurve_itr(alerts, trips)\n",
    "# ax.set_title(f\"{ztfid} lightcurve\", size=14)\n",
    "# fig.tight_layout()\n",
    "# plt.show()"
   ]
  },
  {
   "cell_type": "markdown",
   "id": "625469fb",
   "metadata": {},
   "source": [
    "### Inventory of $i$-band data"
   ]
  },
  {
   "cell_type": "code",
   "execution_count": null,
   "id": "cf5b5206",
   "metadata": {},
   "outputs": [],
   "source": [
    "triplets = np.load(f\"data/{set_name}_triplets.npy\", mmap_mode='r')\n",
    "cand = pd.read_csv(f\"data/{set_name}_candidates.csv\")\n",
    "\n",
    "cand['isdiffpos'] = [True if isdiffpos == 't' else False for isdiffpos in cand['isdiffpos']]"
   ]
  },
  {
   "cell_type": "code",
   "execution_count": null,
   "id": "7d52deea",
   "metadata": {},
   "outputs": [],
   "source": [
    "iband = cand[cand['fid']==3]\n",
    "\n",
    "iband_objids = iband['objectId'].value_counts().index.to_numpy()\n",
    "iband_counts = iband['objectId'].value_counts().to_numpy()\n",
    "\n",
    "cand_objids = cand['objectId'].value_counts().index.to_numpy()\n",
    "cand_counts = cand['objectId'].value_counts().to_numpy()\n",
    "\n",
    "print(f\"Percent of alerts that are in the i-band {100*len(iband)/len(cand):.2f}%\")\n",
    "print(f\"Percent of objects that have at least one i band alert {100*len(iband_objids)/len(cand_objids):.2f}%\")\n",
    "\n",
    "\n",
    "# MS:        3.37% i-band\n",
    "# BTS_true:  8.10% i-band\n",
    "# BTS_false: 4.48% i-band\n"
   ]
  },
  {
   "cell_type": "code",
   "execution_count": null,
   "id": "3fe3f49d",
   "metadata": {},
   "outputs": [],
   "source": [
    "neg_iband = iband[~iband['isdiffpos']]\n",
    "\n",
    "neg_iband_objids = neg_iband['objectId'].value_counts().index.to_numpy()\n",
    "neg_iband_counts = neg_iband['objectId'].value_counts().to_numpy()\n",
    "\n",
    "print(f\"Percent of i-band alerts that have negative differences {100*len(neg_iband)/len(iband):.2f}%\")\n",
    "\n",
    "# MS:        67.58% neg & i-band\n",
    "# BTS_true:  30.24% neg & i-band\n",
    "# BTS_false: 30.22% neg & i-band\n"
   ]
  },
  {
   "cell_type": "code",
   "execution_count": null,
   "id": "0f1a6fbc",
   "metadata": {},
   "outputs": [],
   "source": [
    "cand_pd_gr = cand[(cand['isdiffpos']) & ((cand['fid'] == 1) | (cand['fid'] == 2))]\n",
    "triplets_pd_gr = triplets[(cand['isdiffpos']) & ((cand['fid'] == 1) | (cand['fid'] == 2))]\n",
    "\n",
    "print(\"Positive difference alerts in g- or r-band\", len(cand_pd_gr))\n",
    "\n",
    "np.save(f\"data/{set_name}_triplets_pd_gr.npy\", triplets_pd_gr)\n",
    "cand_pd_gr.to_csv(f\"data/{set_name}_candidates_pd_gr.csv\", index=False)\n"
   ]
  },
  {
   "cell_type": "code",
   "execution_count": null,
   "id": "9b4a8c96",
   "metadata": {},
   "outputs": [],
   "source": []
  },
  {
   "cell_type": "code",
   "execution_count": null,
   "id": "78dd923d",
   "metadata": {},
   "outputs": [],
   "source": []
  },
  {
   "cell_type": "code",
   "execution_count": null,
   "id": "8175a471",
   "metadata": {},
   "outputs": [],
   "source": []
  },
  {
   "cell_type": "code",
   "execution_count": null,
   "id": "10388e5e",
   "metadata": {},
   "outputs": [],
   "source": [
    "# # Purge thinned files\n",
    "# import glob\n",
    "\n",
    "# files = glob.glob(\"data/*max*\")\n",
    "# for file in files:\n",
    "#     !rm \"$file\""
   ]
  },
  {
   "cell_type": "code",
   "execution_count": null,
   "id": "7e67c66a",
   "metadata": {},
   "outputs": [],
   "source": []
  }
 ],
 "metadata": {
  "kernelspec": {
   "display_name": "Python 3 (ipykernel)",
   "language": "python",
   "name": "python3"
  },
  "language_info": {
   "codemirror_mode": {
    "name": "ipython",
    "version": 3
   },
   "file_extension": ".py",
   "mimetype": "text/x-python",
   "name": "python",
   "nbconvert_exporter": "python",
   "pygments_lexer": "ipython3",
   "version": "3.9.10"
  },
  "vscode": {
   "interpreter": {
    "hash": "b0fa6594d8f4cbf19f97940f81e996739fb7646882a419484c72d19e05852a7e"
   }
  }
 },
 "nbformat": 4,
 "nbformat_minor": 5
}
