{
 "cells": [
  {
   "cell_type": "code",
   "execution_count": null,
   "id": "43381ee2",
   "metadata": {},
   "outputs": [],
   "source": [
    "import numpy as np, matplotlib.pyplot as plt, pandas as pd\n",
    "import warnings, json, sys, requests, gzip, io\n",
    "\n",
    "from matplotlib.ticker import (MultipleLocator, AutoMinorLocator)\n",
    "from matplotlib.colors import LogNorm\n",
    "\n",
    "from penquins import Kowalski\n",
    "from sklearn.model_selection import train_test_split\n",
    "\n",
    "from bson.json_util import loads, dumps\n",
    "from astropy.stats import sigma_clipped_stats\n",
    "from astropy.io import fits\n",
    "from astropy.io.fits.verify import VerifyWarning \n",
    "warnings.filterwarnings(\"ignore\", category=VerifyWarning)\n",
    "\n",
    "BOLD = \"\\033[1m\"; END  = \"\\033[0m\"\n",
    "\n",
    "with open('misc/credentials.json', 'r') as f:\n",
    "    creds = json.load(f)"
   ]
  },
  {
   "cell_type": "code",
   "execution_count": null,
   "id": "72863b21",
   "metadata": {},
   "outputs": [],
   "source": [
    "plt.rcParams.update({\n",
    "    \"font.family\": \"Times New Roman\",\n",
    "    \"font.size\": 12,\n",
    "})\n",
    "plt.rcParams['axes.linewidth'] = 1"
   ]
  },
  {
   "cell_type": "markdown",
   "id": "b702101a",
   "metadata": {},
   "source": [
    "### Query the BTS Sample Explorer"
   ]
  },
  {
   "cell_type": "code",
   "execution_count": null,
   "id": "34b5b928",
   "metadata": {},
   "outputs": [],
   "source": [
    "# Old queries\n",
    "# bts_trues_url      = \"https://sites.astro.caltech.edu/ztf/bts/explorer.php?f=s&subsample=trans&classstring=&classexclude=&ps1img=y&lcfig=y&ztflink=lasair&lastdet=&startsavedate=&startpeakdate=&startra=&startdec=&startz=&startdur=&startrise=&startfade=&startpeakmag=&startabsmag=&starthostabs=&starthostcol=&startb=&startav=&endsavedate=&endpeakdate=&endra=&enddec=&endz=&enddur=&endrise=&endfade=&endpeakmag=18.5&endabsmag=&endhostabs=&endhostcol=&endb=&endav=&sort=peakmag&format=csv\"\n",
    "# bts_dim_falses_url = \"https://sites.astro.caltech.edu/ztf/bts/explorer.php?f=s&subsample=trans&classstring=&classexclude=&quality=y&purity=y&ps1img=y&lcfig=y&ztflink=lasair&lastdet=&startsavedate=&startpeakdate=&startra=&startdec=&startz=&startdur=&startrise=&startfade=&startpeakmag=18.5&startabsmag=&starthostabs=&starthostcol=&startb=&startav=&endsavedate=&endpeakdate=&endra=&enddec=&endz=&enddur=&endrise=&endfade=&endpeakmag=&endabsmag=&endhostabs=&endhostcol=&endb=&endav=&sort=peakmag&reverse=y&format=csv\"\n",
    "\n",
    "# bts_trues_url      = \"https://sites.astro.caltech.edu/ztf/bts/explorer.php?f=s&subsample=trans&classstring=&classexclude=&passok=y&refok=y&dateok=y&purity=y&ps1img=y&lcfig=y&ztflink=lasair&lastdet=&startsavedate=&startpeakdate=&startra=&startdec=&startz=&startdur=&startrise=&startfade=&startpeakmag=&startabsmag=&starthostabs=&starthostcol=&startb=&startav=&endsavedate=&endpeakdate=&endra=&enddec=&endz=&enddur=&endrise=&endfade=&endpeakmag=18.5&endabsmag=&endhostabs=&endhostcol=&endb=&endav=&sort=peakmag&format=csv\"\n",
    "# bts_var_falses_url = \"https://sites.astro.caltech.edu/ztf/bts/explorer.php?f=s&subsample=var&classstring=&classexclude=&ztflink=lasair&lastdet=&startsavedate=&startpeakdate=&startra=&startdec=&startz=&startdur=&startrise=&startfade=&startpeakmag=&startabsmag=&starthostabs=&starthostcol=&startb=&startav=&endsavedate=&endpeakdate=&endra=&enddec=&endz=&enddur=&endrise=&endfade=&endpeakmag=&endabsmag=&endhostabs=&endhostcol=&endb=&endav=&format=csv\"\n",
    "# bts_dim_falses_url = \"https://sites.astro.caltech.edu/ztf/bts/explorer.php?f=s&subsample=trans&classstring=&classexclude=&passok=y&refok=y&dateok=y&purity=y&ps1img=y&lcfig=y&ztflink=lasair&lastdet=&startsavedate=&startpeakdate=&startra=&startdec=&startz=&startdur=&startrise=&startfade=&startpeakmag=18.5&startabsmag=&starthostabs=&starthostcol=&startb=&startav=&endsavedate=&endpeakdate=&endra=&enddec=&endz=&enddur=&endrise=&endfade=&endpeakmag=&endabsmag=&endhostabs=&endhostcol=&endb=&endav=&sort=peakmag&reverse=y&format=csv\"\n"
   ]
  },
  {
   "cell_type": "code",
   "execution_count": null,
   "id": "2abf0414",
   "metadata": {},
   "outputs": [],
   "source": [
    "# # v2\n",
    "# query_urls = {\n",
    "#     \"rcf_trues\":           \"http://sites.astro.caltech.edu/ztf/rcf/explorer.php?f=s&coverage=any&samprcf=y&subsample=trans&classstring=&classexclude=&refok=y&purity=y&ps1img=y&lcfig=y&ztflink=fritz&startsavedate=&startpeakdate=&startlastdate=&startra=&startdec=&startz=&startdur=&startrise=&startfade=&startpeakmag=&startlastmag=&startabsmag=&starthostabs=&starthostcol=&startsavevis=&startlatevis=&startcurrvis=&startb=&startav=&endsavedate=&endpeakdate=&endlastdate=&endra=&enddec=&endz=&enddur=&endrise=&endfade=&endpeakmag=18.5&endlastmag=&endabsmag=&endhostabs=&endhostcol=&endsavevis=&endlatevis=&endcurrvis=&endb=&endav=&sort=peakmag&format=csv\",\n",
    "#     \"rcf_dim_falses\":      \"http://sites.astro.caltech.edu/ztf/rcf/explorer.php?f=s&coverage=any&samprcf=y&subsample=trans&classstring=&classexclude=&covok=y&refok=y&purity=y&ps1img=y&lcfig=y&ztflink=fritz&startsavedate=&startpeakdate=&startlastdate=&startra=&startdec=&startz=&startdur=&startrise=&startfade=&startpeakmag=18.5&startlastmag=&startabsmag=&starthostabs=&starthostcol=&startsavevis=&startlatevis=&startcurrvis=&startb=&startav=&endsavedate=&endpeakdate=&endlastdate=&endra=&enddec=&endz=&enddur=&endrise=&endfade=&endpeakmag=&endlastmag=&endabsmag=&endhostabs=&endhostcol=&endsavevis=&endlatevis=&endcurrvis=&endb=&endav=&sort=peakmag&format=csv\",\n",
    "#     \"rcf_var_falses\":      \"http://sites.astro.caltech.edu/ztf/rcf/explorer.php?f=s&coverage=any&samprcf=y&subsample=var&classstring=&classexclude=&refok=y&ps1img=y&lcfig=y&ztflink=fritz&startsavedate=&startpeakdate=&startlastdate=&startra=&startdec=&startz=&startdur=&startrise=&startfade=&startpeakmag=&startlastmag=&startabsmag=&starthostabs=&starthostcol=&startsavevis=&startlatevis=&startcurrvis=&startb=&startav=&endsavedate=&endpeakdate=&endlastdate=&endra=&enddec=&endz=&enddur=&endrise=&endfade=&endpeakmag=&endlastmag=&endabsmag=&endhostabs=&endhostcol=&endsavevis=&endlatevis=&endcurrvis=&endb=&endav=&sort=peakmag&format=csv\",\n",
    "\n",
    "#     \"rcf_deep_trues\"     : \"http://sites.astro.caltech.edu/ztf/rcf/explorer.php?f=s&coverage=any&sampdeep=y&subsample=trans&classstring=&classexclude=&refok=y&purity=y&ps1img=y&lcfig=y&ztflink=fritz&startsavedate=&startpeakdate=&startlastdate=&startra=&startdec=&startz=&startdur=&startrise=&startfade=&startpeakmag=&startlastmag=&startabsmag=&starthostabs=&starthostcol=&startsavevis=&startlatevis=&startcurrvis=&startb=&startav=&endsavedate=&endpeakdate=&endlastdate=&endra=&enddec=&endz=&enddur=&endrise=&endfade=&endpeakmag=18.5&endlastmag=&endabsmag=&endhostabs=&endhostcol=&endsavevis=&endlatevis=&endcurrvis=&endb=&endav=&sort=peakmag&format=csv\",\n",
    "#     \"rcf_deep_dim_falses\": \"http://sites.astro.caltech.edu/ztf/rcf/explorer.php?f=s&coverage=any&sampdeep=y&subsample=trans&classstring=&classexclude=&covok=y&refok=y&purity=y&ps1img=y&lcfig=y&ztflink=fritz&startsavedate=&startpeakdate=&startlastdate=&startra=&startdec=&startz=&startdur=&startrise=&startfade=&startpeakmag=18.5&startlastmag=&startabsmag=&starthostabs=&starthostcol=&startsavevis=&startlatevis=&startcurrvis=&startb=&startav=&endsavedate=&endpeakdate=&endlastdate=&endra=&enddec=&endz=&enddur=&endrise=&endfade=&endpeakmag=&endlastmag=&endabsmag=&endhostabs=&endhostcol=&endsavevis=&endlatevis=&endcurrvis=&endb=&endav=&sort=peakmag&format=csv\",\n",
    "#     \"rcf_deep_var_falses\": \"http://sites.astro.caltech.edu/ztf/rcf/explorer.php?f=s&coverage=any&sampdeep=y&subsample=var&classstring=&classexclude=&refok=y&ps1img=y&lcfig=y&ztflink=fritz&startsavedate=&startpeakdate=&startlastdate=&startra=&startdec=&startz=&startdur=&startrise=&startfade=&startpeakmag=&startlastmag=&startabsmag=&starthostabs=&starthostcol=&startsavevis=&startlatevis=&startcurrvis=&startb=&startav=&endsavedate=&endpeakdate=&endlastdate=&endra=&enddec=&endz=&enddur=&endrise=&endfade=&endpeakmag=&endlastmag=&endabsmag=&endhostabs=&endhostcol=&endsavevis=&endlatevis=&endcurrvis=&endb=&endav=&sort=peakmag&format=csv\"\n",
    "# }"
   ]
  },
  {
   "cell_type": "code",
   "execution_count": null,
   "id": "b64d1306",
   "metadata": {},
   "outputs": [],
   "source": [
    "# # v3.1\n",
    "# query_urls = {\n",
    "#     \"rcf_trues\":    \"http://sites.astro.caltech.edu/ztf/rcf/explorer.php?f=s&coverage=any&samprcf=y&sampdeep=y&subsample=trans&classstring=&classexclude=&refok=y&purity=y&ps1img=y&lcfig=y&ztflink=fritz&startsavedate=&startpeakdate=&startlastdate=&startra=&startdec=&startz=&startdur=&startrise=&startfade=&startpeakmag=&startlastmag=&startabsmag=&starthostabs=&starthostcol=&startsavevis=&startlatevis=&startcurrvis=&startb=&startav=&endsavedate=&endpeakdate=&endlastdate=&endra=&enddec=&endz=&enddur=&endrise=&endfade=&endpeakmag=18.5&endlastmag=&endabsmag=&endhostabs=&endhostcol=&endsavevis=&endlatevis=&endcurrvis=&endb=&endav=&sort=peakmag&format=csv\",\n",
    "#     \"rcf_dim\":      \"http://sites.astro.caltech.edu/ztf/rcf/explorer.php?f=s&coverage=any&samprcf=y&subsample=all&classstring=&classexclude=&covok=y&refok=y&lcfig=y&ztflink=fritz&startsavedate=&startpeakdate=&startlastdate=&startra=&startdec=&startz=&startdur=&startrise=&startfade=&startpeakmag=18.5&startlastmag=&startabsmag=&starthostabs=&starthostcol=&startsavevis=&startlatevis=&startcurrvis=&startb=&startav=&endsavedate=&endpeakdate=&endlastdate=&endra=&enddec=&endz=&enddur=&endrise=&endfade=&endpeakmag=&endlastmag=&endabsmag=&endhostabs=&endhostcol=&endsavevis=&endlatevis=&endcurrvis=&endb=&endav=&sort=peakmag&format=csv\",\n",
    "#     \"rcf_var\":      \"http://sites.astro.caltech.edu/ztf/rcf/explorer.php?f=s&coverage=any&samprcf=y&subsample=var&classstring=&classexclude=&refok=y&lcfig=y&ztflink=fritz&startsavedate=&startpeakdate=&startlastdate=&startra=&startdec=&startz=&startdur=&startrise=&startfade=&startpeakmag=&startlastmag=&startabsmag=&starthostabs=&starthostcol=&startsavevis=&startlatevis=&startcurrvis=&startb=&startav=&endsavedate=&endpeakdate=&endlastdate=&endra=&enddec=&endz=&enddur=&endrise=&endfade=&endpeakmag=&endlastmag=&endabsmag=&endhostabs=&endhostcol=&endsavevis=&endlatevis=&endcurrvis=&endb=&endav=&sort=peakmag&format=csv\",\n",
    "    \n",
    "#     \"rcf_deep_dim\": \"http://sites.astro.caltech.edu/ztf/rcf/explorer.php?f=s&coverage=any&sampdeep=y&subsample=all&classstring=&classexclude=&covok=y&refok=y&lcfig=y&ztflink=fritz&startsavedate=&startpeakdate=&startlastdate=&startra=&startdec=&startz=&startdur=&startrise=&startfade=&startpeakmag=18.5&startlastmag=&startabsmag=&starthostabs=&starthostcol=&startsavevis=&startlatevis=&startcurrvis=&startb=&startav=&endsavedate=&endpeakdate=&endlastdate=&endra=&enddec=&endz=&enddur=&endrise=&endfade=&endpeakmag=&endlastmag=&endabsmag=&endhostabs=&endhostcol=&endsavevis=&endlatevis=&endcurrvis=&endb=&endav=&sort=peakmag&format=csv\",\n",
    "#     \"rcf_deep_var\": \"http://sites.astro.caltech.edu/ztf/rcf/explorer.php?f=s&coverage=any&sampdeep=y&subsample=var&classstring=&classexclude=&refok=y&lcfig=y&ztflink=fritz&startsavedate=&startpeakdate=&startlastdate=&startra=&startdec=&startz=&startdur=&startrise=&startfade=&startpeakmag=&startlastmag=&startabsmag=&starthostabs=&starthostcol=&startsavevis=&startlatevis=&startcurrvis=&startb=&startav=&endsavedate=&endpeakdate=&endlastdate=&endra=&enddec=&endz=&enddur=&endrise=&endfade=&endpeakmag=&endlastmag=&endabsmag=&endhostabs=&endhostcol=&endsavevis=&endlatevis=&endcurrvis=&endb=&endav=&sort=peakmag&format=csv\"\n",
    "# }"
   ]
  },
  {
   "cell_type": "code",
   "execution_count": null,
   "id": "33e49774",
   "metadata": {},
   "outputs": [],
   "source": [
    "# v3.2\n",
    "query_urls = {\n",
    "    \"trues\": \"http://sites.astro.caltech.edu/ztf/rcf/explorer.php?f=s&coverage=any&samprcf=y&sampdeep=y&subsample=trans&classstring=&classexclude=&refok=y&purity=y&ps1img=y&lcfig=y&ztflink=fritz&startsavedate=&startpeakdate=&startlastdate=&startra=&startdec=&startz=&startdur=&startrise=&startfade=&startpeakmag=&startlastmag=&startabsmag=&starthostabs=&starthostcol=&startsavevis=&startlatevis=&startcurrvis=&startb=&startav=&endsavedate=&endpeakdate=&endlastdate=&endra=&enddec=&endz=&enddur=&endrise=&endfade=&endpeakmag=18.5&endlastmag=&endabsmag=&endhostabs=&endhostcol=&endsavevis=&endlatevis=&endcurrvis=&endb=&endav=&sort=peakmag&format=csv\",\n",
    "    \"dims\":  \"http://sites.astro.caltech.edu/ztf/rcf/explorer.php?f=s&coverage=any&samprcf=y&sampdeep=y&subsample=all&classstring=&classexclude=&covok=y&refok=y&purity=y&lcfig=y&ztflink=fritz&startsavedate=&startpeakdate=&startlastdate=&startra=&startdec=&startz=&startdur=&startrise=&startfade=&startpeakmag=18.5&startlastmag=&startabsmag=&starthostabs=&starthostcol=&startsavevis=&startlatevis=&startcurrvis=&startb=&startav=&endsavedate=&endpeakdate=&endlastdate=&endra=&enddec=&endz=&enddur=&endrise=&endfade=&endpeakmag=&endlastmag=&endabsmag=&endhostabs=&endhostcol=&endsavevis=&endlatevis=&endcurrvis=&endb=&endav=&sort=peakmag&format=csv\",\n",
    "    \"vars\":  \"http://sites.astro.caltech.edu/ztf/rcf/explorer.php?f=s&coverage=any&samprcf=y&sampdeep=y&subsample=var&classstring=&classexclude=&refok=y&lcfig=y&ztflink=fritz&startsavedate=&startpeakdate=&startlastdate=&startra=&startdec=&startz=&startdur=&startrise=&startfade=&startpeakmag=&startlastmag=&startabsmag=&starthostabs=&starthostcol=&startsavevis=&startlatevis=&startcurrvis=&startb=&startav=&endsavedate=&endpeakdate=&endlastdate=&endra=&enddec=&endz=&enddur=&endrise=&endfade=&endpeakmag=&endlastmag=&endabsmag=&endhostabs=&endhostcol=&endsavevis=&endlatevis=&endcurrvis=&endb=&endav=&sort=peakmag&format=csv\",\n",
    "}\n"
   ]
  },
  {
   "cell_type": "code",
   "execution_count": null,
   "id": "8011d143",
   "metadata": {},
   "outputs": [],
   "source": [
    "for set_name in query_urls.keys():\n",
    "    with open(f\"data/base_data/{set_name}.csv\", \"w\") as f:\n",
    "        f.write(requests.get(query_urls[set_name], auth=(creds[\"btsse_username\"], creds[\"btsse_password\"])).text)\n",
    "        print(\"Queried and wrote\", set_name)\n"
   ]
  },
  {
   "cell_type": "markdown",
   "id": "36242947",
   "metadata": {},
   "source": [
    "### Read queried data"
   ]
  },
  {
   "cell_type": "code",
   "execution_count": null,
   "id": "d04b0c0c",
   "metadata": {
    "scrolled": false
   },
   "outputs": [],
   "source": [
    "for name1 in query_urls.keys():\n",
    "    set1 = pd.read_csv(f\"data/base_data/{name1}.csv\")\n",
    "    print(name1)\n",
    "    for name2 in query_urls.keys():\n",
    "        set2 = pd.read_csv(f\"data/base_data/{name2}.csv\")\n",
    "        print(f\"  in {name2}\")\n",
    "        print(\"  \", np.sum(set1['ZTFID'].isin(set2[\"ZTFID\"])), \"/\", len(set1['ZTFID']))\n",
    "    print()"
   ]
  },
  {
   "cell_type": "code",
   "execution_count": null,
   "id": "98a9abfb",
   "metadata": {},
   "outputs": [],
   "source": [
    "all_queries = pd.DataFrame(columns=[\"ZTFID\"])\n",
    "queries = [pd.read_csv(f\"data/base_data/{set_name}.csv\") for set_name in query_urls.keys()]\n",
    "\n",
    "for i in range(len(queries)):\n",
    "    queries[i] = queries[i][~queries[i]['ZTFID'].isin(all_queries['ZTFID'])]\n",
    "    all_queries = pd.concat([all_queries, queries[i]])\n",
    "    \n",
    "trues = queries[0]\n",
    "dims  = queries[1]\n",
    "vars  = queries[2]"
   ]
  },
  {
   "cell_type": "code",
   "execution_count": null,
   "id": "3a36d6c2",
   "metadata": {},
   "outputs": [],
   "source": [
    "print(len(trues), \"rcf true sources\")\n",
    "print(len(dims)+len(vars), \"rcf (deep) false sources\")\n",
    "\n",
    "print(len(all_queries), \"total\")\n",
    "\n",
    "# v2\n",
    "# 7009 total\n",
    "\n",
    "# v3.1\n",
    "# 4150 rcf true sources\n",
    "# 7913 rcf (deep) false sources\n",
    "# 12063 total\n"
   ]
  },
  {
   "cell_type": "markdown",
   "id": "048a7a78",
   "metadata": {},
   "source": [
    "### Process list from Mat Smith"
   ]
  },
  {
   "cell_type": "code",
   "execution_count": null,
   "id": "58defe53",
   "metadata": {},
   "outputs": [],
   "source": [
    "MS_Ias = pd.read_csv('mat-smith/ztfdr2_masterlist.csv')\n",
    "MS_Ias.rename(columns={\"ztfname\": \"ZTFID\"}, inplace=True)\n",
    "print(\"Total in MS list\", len(MS_Ias))"
   ]
  },
  {
   "cell_type": "code",
   "execution_count": null,
   "id": "77bb1fc9",
   "metadata": {},
   "outputs": [],
   "source": [
    "nonZTF = ~MS_Ias['ZTFID'].str.contains('ZTF')\n",
    "nonZTF_idxs = MS_Ias['ZTFID'].index[nonZTF]\n",
    "\n",
    "MS_Ias = MS_Ias.drop(index=nonZTF_idxs)\n",
    "print(\"Total in MS list excluding non ZTF objects\", len(MS_Ias))"
   ]
  },
  {
   "cell_type": "code",
   "execution_count": null,
   "id": "d3bdb8bb",
   "metadata": {},
   "outputs": [],
   "source": [
    "inBTSSE = MS_Ias['ZTFID'].isin(all_queries['ZTFID'])\n",
    "inBTSSE_idxs = MS_Ias['ZTFID'].index[inBTSSE]\n",
    "\n",
    "MS_Ias = MS_Ias.drop(index=inBTSSE_idxs)\n",
    "print(\"New in MS list\", len(MS_Ias))"
   ]
  },
  {
   "cell_type": "code",
   "execution_count": null,
   "id": "aa58be8d",
   "metadata": {},
   "outputs": [],
   "source": [
    "print(\"Total objects:\", len(all_queries)+len(MS_Ias))"
   ]
  },
  {
   "cell_type": "markdown",
   "id": "4578ff4e",
   "metadata": {},
   "source": [
    "### Objects to remove"
   ]
  },
  {
   "cell_type": "code",
   "execution_count": null,
   "id": "08e7e085",
   "metadata": {},
   "outputs": [],
   "source": [
    "objs_to_remove = [\"ZTF18abdiasx\", \"ZTF21abyazip\", \"ZTF18aaadqua\", \"ZTF18aarrwmi\"]\n",
    "print(len(all_queries)+len(MS_Ias))\n",
    "\n",
    "for obj in objs_to_remove:\n",
    "    trues = trues[trues[\"ZTFID\"] != obj]\n",
    "    dims = dims[dims[\"ZTFID\"] != obj]\n",
    "    vars = vars[vars[\"ZTFID\"] != obj]\n",
    "    MS_Ias = MS_Ias[MS_Ias[\"ZTFID\"] != obj]\n",
    "        \n",
    "dims = dims[~dims[\"type\"].isin([\"bogus\", \"duplicate\", \"bogus?\", \"duplicate?\"])]\n",
    "\n",
    "queries = [trues, dims, vars] \n",
    "all_queries = pd.concat(queries)\n",
    "print(len(all_queries)+len(MS_Ias))"
   ]
  },
  {
   "cell_type": "markdown",
   "id": "00c471c2",
   "metadata": {},
   "source": [
    "### Helper functions for querying kowalski and processing alerts"
   ]
  },
  {
   "cell_type": "code",
   "execution_count": null,
   "id": "e685b4f8",
   "metadata": {},
   "outputs": [],
   "source": [
    "k = Kowalski(username=creds['kowalski_username'], password=creds['kowalski_password'])\n",
    "assert(k.ping())"
   ]
  },
  {
   "cell_type": "code",
   "execution_count": null,
   "id": "15ed0e0d",
   "metadata": {
    "code_folding": [
     0
    ]
   },
   "outputs": [],
   "source": [
    "def query_kowalski(ZTFID, kowalski):\n",
    "    \"\"\"\n",
    "        Query kowalski to get the candidate stamps\n",
    "        ADAPTED FROM https://github.com/growth-astro/ztfrest/\n",
    "        https://zwickytransientfacility.github.io/ztf-avro-alert/schema.html\n",
    "    \"\"\"\n",
    "    \n",
    "    if type(ZTFID) == str:\n",
    "        list_ZTFID = [ZTFID]\n",
    "    elif type(ZTFID) == list:\n",
    "        list_ZTFID = ZTFID\n",
    "    else:\n",
    "        print(f\"{ZTFID} must be a list or a string\")\n",
    "        return None\n",
    "\n",
    "    alerts = []\n",
    "    \n",
    "    for ZTFID in list_ZTFID:\n",
    "        query = {\n",
    "            \"query_type\": \"find\",\n",
    "            \"query\": {\n",
    "                \"catalog\": \"ZTF_alerts\",\n",
    "                \"filter\": {\n",
    "                    'objectId': ZTFID\n",
    "                },\n",
    "                \"projection\": {\n",
    "                    \"_id\": 0,\n",
    "                    \"candid\": 1,\n",
    "                    \"objectId\": 1,\n",
    "                    \n",
    "                    \"candidate.jd\": 1,\n",
    "                    \"candidate.fid\": 1,\n",
    "                    \"candidate.programid\": 1,\n",
    "                    \"candidate.isdiffpos\": 1,\n",
    "                    \"candidate.rcid\": 1,\n",
    "                    \"candidate.field\": 1,\n",
    "                    \"candidate.ra\": 1,\n",
    "                    \"candidate.dec\": 1,\n",
    "                    \"candidate.magpsf\": 1,\n",
    "                    \"candidate.sigmapsf\": 1,\n",
    "                    \"candidate.distnr\": 1,\n",
    "                    \"candidate.magnr\": 1,\n",
    "                    \"candidate.sigmagnr\": 1,\n",
    "                    \"candidate.sky\": 1,\n",
    "                    \"candidate.fwhm\": 1,\n",
    "                    \"candidate.classtar\": 1,\n",
    "                    \"candidate.mindtoedge\": 1,\n",
    "                    \"candidate.rb\": 1,\n",
    "                    \"candidate.drb\": 1,\n",
    "                    \"candidate.ndethist\": 1,\n",
    "                    \"candidate.jdstarthist\": 1,\n",
    "                    \"candidate.jdendhist\": 1,\n",
    "                    \"candidate.scorr\": 1,\n",
    "                    \"candidate.sgscore1\": 1,\n",
    "                    \"candidate.distpsnr1\": 1,\n",
    "                    \"candidate.sgscore2\": 1,\n",
    "                    \"candidate.distpsnr2\": 1,\n",
    "                    \"candidate.sgscore3\": 1,\n",
    "                    \"candidate.distpsnr3\": 1,\n",
    "                    \"candidate.magzpsci\": 1, \n",
    "                    \"candidate.magzpsciunc\": 1,\n",
    "                    \"candidate.neargaia\": 1, \n",
    "                    \"candidate.maggaia\": 1,\n",
    "                    \n",
    "                    \"classifications.acai_h\": 1,\n",
    "                    \"classifications.acai_v\": 1,\n",
    "                    \"classifications.acai_o\": 1,\n",
    "                    \"classifications.acai_n\": 1,\n",
    "                    \"classifications.acai_b\": 1,\n",
    "                    \n",
    "                    \"cutoutScience\": 1,\n",
    "                    \"cutoutTemplate\": 1,\n",
    "                    \"cutoutDifference\": 1,\n",
    "                }\n",
    "            }\n",
    "        }\n",
    "\n",
    "        r = kowalski.query(query)\n",
    "\n",
    "        if r['data'] == []:\n",
    "            print(\"  No data for\", ZTFID)\n",
    "        else:\n",
    "            alerts += r['data']\n",
    "            print(\"  Finished querying\", ZTFID)\n",
    "    print(BOLD+f\"Finished all queries, got {len(alerts)} alerts\"+END+\"\\n\")\n",
    "    return alerts\n",
    "    "
   ]
  },
  {
   "cell_type": "code",
   "execution_count": null,
   "id": "d561d072",
   "metadata": {
    "code_folding": [
     0
    ]
   },
   "outputs": [],
   "source": [
    "def make_triplet(alert, normalize: bool = True):\n",
    "    \"\"\"\n",
    "        Feed in alert packet\n",
    "        ADAPTED FROM https://github.com/dmitryduev/braai\n",
    "    \"\"\"\n",
    "    \n",
    "    cutout_dict = dict()\n",
    "    drop = False\n",
    "    \n",
    "    for cutout in ('science', 'template', 'difference'):\n",
    "        cutout_data = loads(dumps([alert[f'cutout{cutout.capitalize()}']['stampData']]))[0]\n",
    "        # unzip\n",
    "        with gzip.open(io.BytesIO(cutout_data), 'rb') as f:\n",
    "            with fits.open(io.BytesIO(f.read())) as hdu:\n",
    "                data = hdu[0].data\n",
    "#                 print(data)\n",
    "                # replace nans with zeros\n",
    "                medfill = np.nanmedian(data.flatten())\n",
    "#                 print(medfill)\n",
    "                \n",
    "                if medfill == np.nan or medfill == -np.inf or medfill == np.inf:\n",
    "                    print(BOLD, alert['objectId'], END, \"bad medfill (nan or inf)\", alert['candid'])\n",
    "                    drop=True\n",
    "    \n",
    "                cutout_dict[cutout] = np.nan_to_num(data, nan=medfill)\n",
    "                \n",
    "                # normalize\n",
    "                if normalize and not drop:\n",
    "                    cutout_dict[cutout] /= np.linalg.norm(cutout_dict[cutout])\n",
    "                    \n",
    "                if np.all(cutout_dict[cutout].flatten() == 0):\n",
    "                    print(BOLD, alert['objectId'], END, \"zero image\", alert['candid'])\n",
    "                    drop=True\n",
    "                    \n",
    "                if np.any(np.isnan(cutout_dict[cutout].flatten())):\n",
    "                    print(BOLD, alert['objectId'], END, \"nan here\", alert['candid'])\n",
    "#                     for it in cutout_dict[cutout]:\n",
    "#                         print(it)\n",
    "                    plt.imshow(cutout_dict[cutout], origin='upper', cmap=plt.cm.bone, norm=LogNorm())\n",
    "                    plt.show()\n",
    "        \n",
    "        # pad to 63x63 if smaller\n",
    "        shape = cutout_dict[cutout].shape\n",
    "        if shape != (63, 63):\n",
    "            print(\"bad shape\", shape, alert['candid'], alert['objectId'])\n",
    "            cutout_dict[cutout] = np.pad(cutout_dict[cutout],\n",
    "                                         [(0, 63 - shape[0]),\n",
    "                                          (0, 63 - shape[1])],\n",
    "                                         mode='constant', constant_values=medfill)\n",
    "#     print()\n",
    "    triplet = np.zeros((63, 63, 3))\n",
    "    triplet[:, :, 0] = cutout_dict['science']\n",
    "    triplet[:, :, 1] = cutout_dict['template']\n",
    "    triplet[:, :, 2] = cutout_dict['difference']\n",
    "    \n",
    "    return triplet, drop\n"
   ]
  },
  {
   "cell_type": "code",
   "execution_count": null,
   "id": "86846995",
   "metadata": {
    "code_folding": [
     0
    ]
   },
   "outputs": [],
   "source": [
    "def plot_triplet(tr, show_fig: bool = True):\n",
    "    \"\"\"ADAPTED FROM https://github.com/dmitryduev/braai\"\"\"\n",
    "    \n",
    "    fig = plt.figure(figsize=(8, 2), dpi=120)\n",
    "    ax1 = fig.add_subplot(131)\n",
    "    ax1.axis('off')\n",
    "#     mean, median, std = sigma_clipped_stats(tr[:, :, 0])\n",
    "    ax1.imshow(tr[:, :, 0], origin='upper', cmap=plt.cm.bone, norm=LogNorm())\n",
    "    ax1.title.set_text('Science')\n",
    "    ax2 = fig.add_subplot(132)\n",
    "    ax2.axis('off')\n",
    "#     mean, median, std = sigma_clipped_stats(tr[:, :, 1])\n",
    "    ax2.imshow(tr[:, :, 1], origin='upper', cmap=plt.cm.bone, norm=LogNorm())\n",
    "    ax2.title.set_text('Reference')\n",
    "    ax3 = fig.add_subplot(133)\n",
    "    ax3.axis('off')\n",
    "#     mean, median, std = sigma_clipped_stats(tr[:, :, 2])\n",
    "    ax3.imshow(tr[:, :, 2], origin='upper', cmap=plt.cm.bone)\n",
    "    ax3.title.set_text('Difference')\n",
    "\n",
    "    if show_fig:\n",
    "        plt.show()\n",
    "    else:\n",
    "        return fig\n",
    "    "
   ]
  },
  {
   "cell_type": "code",
   "execution_count": null,
   "id": "caf4e722",
   "metadata": {
    "code_folding": [
     0
    ]
   },
   "outputs": [],
   "source": [
    "def extract_triplets(alerts, normalize: bool = True, pop_triplet: bool = True):\n",
    "    triplets = np.empty((len(alerts), 63, 63, 3))\n",
    "    to_drop = np.array((), dtype=int)\n",
    "    for i, alert in enumerate(alerts):\n",
    "        triplets[i], drop = make_triplet(alert, normalize=normalize)\n",
    "        if pop_triplet:\n",
    "            alert.pop('cutoutScience'); alert.pop('cutoutTemplate'); alert.pop('cutoutDifference')\n",
    "        if drop:\n",
    "            to_drop = np.append(to_drop, int(i))\n",
    "            \n",
    "    if len(to_drop) > 0:\n",
    "        triplets = np.delete(triplets, list(to_drop), axis=0)\n",
    "        alerts = np.delete(alerts, list(to_drop), axis=0)\n",
    "\n",
    "    return alerts, triplets\n"
   ]
  },
  {
   "cell_type": "code",
   "execution_count": null,
   "id": "22a53ce1",
   "metadata": {
    "code_folding": [
     0
    ]
   },
   "outputs": [],
   "source": [
    "def process_cand_data(alerts, label):\n",
    "    cand_class_data = [alert['candidate'] | alert['classifications'] for alert in alerts]\n",
    "\n",
    "    df = pd.DataFrame(cand_class_data)\n",
    "    df.insert(0, \"objectId\", [alert['objectId'] for alert in alerts])\n",
    "    df.insert(1, \"candid\", [alert['candid'] for alert in alerts])\n",
    "    \n",
    "    # label must be int equalling 0, 1 or a list of 1s and 0s\n",
    "    if type(label) == list or type(label) == np.ndarray:\n",
    "        assert(len(label) == len(alerts))\n",
    "        df.insert(2, \"label\", label)\n",
    "    elif type(label) == int:    \n",
    "        df.insert(2, \"label\", np.full((len(alerts),), label, dtype=int))\n",
    "    print(\"Arranged candidate data and inserted labels\")\n",
    "    return df\n"
   ]
  },
  {
   "cell_type": "markdown",
   "id": "865ba781",
   "metadata": {},
   "source": [
    "### Query data from kowalski, separate and save triplets and candidate data  "
   ]
  },
  {
   "cell_type": "code",
   "execution_count": null,
   "id": "a9765d42",
   "metadata": {},
   "outputs": [],
   "source": [
    "print(f\"Querying kowalski for {len(trues['ZTFID'])} objects\")\n",
    "true_alerts, true_triplets = extract_triplets(query_kowalski(trues['ZTFID'].to_list(), k), True)\n",
    "\n",
    "np.save(\"data/base_data/true_triplets.npy\", true_triplets)\n",
    "del true_triplets\n",
    "print(\"Saved and purged triplets\\n\")\n",
    "\n",
    "num_true_alerts = len(true_alerts)\n",
    "print(f\"All {num_true_alerts} alerts are trues\")\n",
    "\n",
    "true_cand_data = process_cand_data(true_alerts, np.ones(num_true_alerts, dtype=int))\n",
    "true_cand_data.to_csv('data/base_data/true_candidates.csv', index=False)\n",
    "del true_cand_data\n",
    "print(\"Saved and purged candidate data\")"
   ]
  },
  {
   "cell_type": "code",
   "execution_count": null,
   "id": "f095650c",
   "metadata": {
    "scrolled": true
   },
   "outputs": [],
   "source": [
    "print(f\"Querying kowalski for {len(dims['ZTFID'])} objects\")\n",
    "dims_alerts, dims_triplets = extract_triplets(query_kowalski(dims['ZTFID'].to_list(), k), True)\n",
    "\n",
    "np.save(\"data/base_data/dims_triplets.npy\", dims_triplets)\n",
    "del dims_triplets\n",
    "print(\"Saved and purged triplets\\n\")\n",
    "\n",
    "num_dims_alerts = len(dims_alerts)\n",
    "print(f\"All {num_dims_alerts} alerts are falses\")\n",
    "\n",
    "dims_cand_data = process_cand_data(dims_alerts, np.zeros(num_dims_alerts, dtype=int))\n",
    "dims_cand_data.to_csv('data/base_data/dims_candidates.csv', index=False)\n",
    "del dims_cand_data\n",
    "print(\"Saved and purged candidate data\")"
   ]
  },
  {
   "cell_type": "code",
   "execution_count": null,
   "id": "efcc7b0b",
   "metadata": {},
   "outputs": [],
   "source": [
    "print(f\"Querying kowalski for {len(vars['ZTFID'])} objects\")\n",
    "vars_alerts, vars_triplets = extract_triplets(query_kowalski(vars['ZTFID'].to_list(), k), True)\n",
    "\n",
    "np.save(\"data/base_data/vars_triplets.npy\", vars_triplets)\n",
    "del vars_triplets\n",
    "print(\"Saved and purged triplets\\n\")\n",
    "\n",
    "num_vars_alerts = len(vars_alerts)\n",
    "print(f\"All {num_vars_alerts} alerts are falses\")\n",
    "\n",
    "vars_cand_data = process_cand_data(vars_alerts, np.zeros(num_vars_alerts, dtype=int))\n",
    "vars_cand_data.to_csv('data/base_data/vars_candidates.csv', index=False)\n",
    "del vars_cand_data\n",
    "print(\"Saved and purged candidate data\")\n"
   ]
  },
  {
   "cell_type": "code",
   "execution_count": null,
   "id": "823ae70a",
   "metadata": {
    "scrolled": false
   },
   "outputs": [],
   "source": [
    "print(f\"Querying kowalski for {len(MS_Ias)} objects\")\n",
    "MS_alerts, MS_triplets = extract_triplets(query_kowalski(MS_Ias['ZTFID'].to_list(), k), True)\n",
    "\n",
    "np.save(\"data/base_data/MS_triplets.npy\", MS_triplets)\n",
    "del MS_triplets\n",
    "print(\"Saved and purged triplets\\n\")\n",
    "\n",
    "num_MS_alerts = len(MS_alerts)\n",
    "\n",
    "MS_true_objs = set()\n",
    "for al in MS_alerts: \n",
    "    if al['candidate']['magpsf'] < 18.5:\n",
    "        MS_true_objs.add(al['objectId'])\n",
    "MS_labels = [1 if al['objectId'] in MS_true_objs else 0 for al in MS_alerts]\n",
    "print(f\"Generated labels: {np.sum(MS_labels)} trues, {len(MS_labels)-np.sum(MS_labels)} falses\")\n",
    "\n",
    "MS_cand_data = process_cand_data(MS_alerts, MS_labels)\n",
    "MS_cand_data.to_csv('data/base_data/MS_candidates.csv', index=False)\n",
    "del MS_cand_data\n",
    "print(\"Saved and purged candidate data\")"
   ]
  },
  {
   "cell_type": "markdown",
   "id": "1cd72556",
   "metadata": {},
   "source": [
    "### Visualization helper functions"
   ]
  },
  {
   "cell_type": "code",
   "execution_count": null,
   "id": "b8c90027",
   "metadata": {},
   "outputs": [],
   "source": [
    "def plot_lightcurve(alerts):\n",
    "    fid_to_color = {\n",
    "        1: ('green',  'g'),\n",
    "        2: ('red',    'r'),\n",
    "        3: ('orange', 'i')\n",
    "    }\n",
    "    \n",
    "    alerts = alerts.sort_values(by='jd')\n",
    "    jds = alerts['jd']-alerts['jd'].to_numpy()[0]\n",
    "        \n",
    "    fig, ax = plt.subplots(figsize=(8,5))\n",
    "    \n",
    "    for fid in [1, 2, 3]:\n",
    "        obs_in_filt = alerts['fid'] == fid\n",
    "        \n",
    "        alerts_in_filt = alerts.loc[obs_in_filt]\n",
    "        plt.errorbar(jds[obs_in_filt], alerts_in_filt['magpsf'], fmt='o', color=fid_to_color[fid][0], yerr=alerts_in_filt['sigmapsf'], label='ztf'+fid_to_color[fid][1])\n",
    "    \n",
    "    ax.invert_yaxis()\n",
    "    ax.set_xlabel(\"days since first detection\", size=16, labelpad=10)\n",
    "    ax.set_ylabel(\"PSF magnitude\", size=16, labelpad=10)\n",
    "    ax.legend(loc='upper right', bbox_to_anchor=(1.25, 1))\n",
    "    \n",
    "    return fig, ax"
   ]
  },
  {
   "cell_type": "code",
   "execution_count": null,
   "id": "10aa9b49",
   "metadata": {
    "code_folding": [
     0
    ]
   },
   "outputs": [],
   "source": [
    "def plot_lightcurve_itr(alerts, triplets):\n",
    "    fid_to_color = {\n",
    "        1: ('green',  'g'),\n",
    "        2: ('red',    'r'),\n",
    "        3: ('orange', 'i')\n",
    "    }\n",
    "    \n",
    "#     alerts = alerts.sort_values(by='jd')\n",
    "    first_detect = np.min(alerts['jd'].to_numpy())\n",
    "    print(first_detect)\n",
    "    for trip in trips[::10]:\n",
    "        \n",
    "        plot_triplet(trip, show_fig=True)\n",
    "        \n",
    "    fig, ax = plt.subplots(figsize=(8,5))\n",
    "    \n",
    "    for idx in alerts.index:\n",
    "        alert = alerts.loc[idx]\n",
    "        jd = alert['jd'] - first_detect\n",
    "        if alert['isdiffpos']:\n",
    "            plt.errorbar(jd, alert['magpsf'], fmt='^', fillstyle='none', alpha=0.5, color=fid_to_color[alert['fid']][0], yerr=alert['sigmapsf'])\n",
    "        else:\n",
    "            plt.errorbar(jd, alert['magpsf'], fmt='v', fillstyle='none', alpha=0.5, color=fid_to_color[alert['fid']][0], yerr=alert['sigmapsf'])\n",
    "    \n",
    "    \n",
    "    plt.plot([],[], marker='^', color='red', fillstyle='none', alpha=0.5, label='ztfr pos diff')\n",
    "    plt.plot([],[], marker='^', color='green', fillstyle='none', alpha=0.5, label='ztfg pos diff')\n",
    "    plt.plot([],[], marker='^', color='orange', fillstyle='none', alpha=0.5, label='ztfi pos diff')\n",
    "    \n",
    "    plt.plot([],[], marker='v', color='r', fillstyle='none', alpha=0.5, label='ztfr neg diff')\n",
    "    plt.plot([],[], marker='v', color='green', fillstyle='none', alpha=0.5, label='ztfg neg diff')\n",
    "    plt.plot([],[], marker='v', color='orange', fillstyle='none', alpha=0.5, label='ztfi neg diff')\n",
    "    ax.invert_yaxis()\n",
    "    ax.set_xlabel(\"days since first detection\", size=16, labelpad=10)\n",
    "    ax.set_ylabel(\"PSF magnitude\", size=16, labelpad=10)\n",
    "    ax.legend(loc='upper right')#, bbox_to_anchor=(1.2,1))\n",
    "    \n",
    "    return fig, ax"
   ]
  },
  {
   "cell_type": "code",
   "execution_count": null,
   "id": "d9253c85",
   "metadata": {
    "scrolled": false
   },
   "outputs": [],
   "source": [
    "# ztfid = \"ZTF18ablmduj\"\n",
    "\n",
    "# alerts = cand[cand['objectId']==ztfid]\n",
    "# trips = triplets[cand['objectId']==ztfid]\n",
    "# fig, ax = plot_lightcurve_itr(alerts, trips)\n",
    "# ax.set_title(f\"{ztfid} lightcurve\", size=14)\n",
    "# fig.tight_layout()\n",
    "# plt.show()"
   ]
  }
 ],
 "metadata": {
  "kernelspec": {
   "display_name": "Python 3.10.6 ('base')",
   "language": "python",
   "name": "python3"
  },
  "language_info": {
   "codemirror_mode": {
    "name": "ipython",
    "version": 3
   },
   "file_extension": ".py",
   "mimetype": "text/x-python",
   "name": "python",
   "nbconvert_exporter": "python",
   "pygments_lexer": "ipython3",
   "version": "3.10.6"
  },
  "vscode": {
   "interpreter": {
    "hash": "60a819b446826fec9589f2a4431338385350576f29c3491de1f269c234f42a28"
   }
  }
 },
 "nbformat": 4,
 "nbformat_minor": 5
}
